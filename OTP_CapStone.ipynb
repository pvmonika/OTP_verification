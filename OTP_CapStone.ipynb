{
 "cells": [
  {
   "cell_type": "code",
   "execution_count": 6,
   "id": "1d236df6-24fb-4030-9203-c573bde4f274",
   "metadata": {},
   "outputs": [],
   "source": [
    "import os\n",
    "import math\n",
    "import random\n",
    "import smtplib\n",
    "s = smtplib.SMTP('smtp.gmail.com', 587)"
   ]
  },
  {
   "cell_type": "code",
   "execution_count": 7,
   "id": "30e9ca98-017d-4cf0-b5e8-9c2c472fdfed",
   "metadata": {},
   "outputs": [
    {
     "name": "stdin",
     "output_type": "stream",
     "text": [
      "Enter your email address :: mounika95p@gmail.com\n"
     ]
    },
    {
     "name": "stdout",
     "output_type": "stream",
     "text": [
      "Mail has sent\n"
     ]
    },
    {
     "name": "stdin",
     "output_type": "stream",
     "text": [
      "Enter your OTP for verfication =  0303364\n"
     ]
    },
    {
     "name": "stdout",
     "output_type": "stream",
     "text": [
      "Invalid OTP,Try again\n"
     ]
    },
    {
     "name": "stdin",
     "output_type": "stream",
     "text": [
      "Enter your OTP for verfication =  03033\n"
     ]
    },
    {
     "name": "stdout",
     "output_type": "stream",
     "text": [
      "Invalid OTP,Try again\n"
     ]
    },
    {
     "name": "stdin",
     "output_type": "stream",
     "text": [
      "Enter your OTP for verfication =  030336\n"
     ]
    },
    {
     "name": "stdout",
     "output_type": "stream",
     "text": [
      "Access Granted\n"
     ]
    }
   ],
   "source": [
    "\n",
    "mail=input('Enter your email address ::')\n",
    "# Creating a User Defined function with one parameter as mail_id\n",
    "def send_mail(sender_mail_id):\n",
    "# with random module generating 6 digit OTP\n",
    "    code=''.join([str(random.randint(0,9)) for i in range(0,6)])\n",
    "    \n",
    "# start TLS for security\n",
    "    s.starttls()\n",
    "    \n",
    "# Authentication\n",
    "    s.login(\"mounika95p@gmail.com\", \"ccdj wjyi qcrn yfeo\")\n",
    "    \n",
    "# message to be sent\n",
    "    SUBJECT = \"OTP VERIFICATION!\"\n",
    "    TEXT = f\"Hi \\n\\n Kindly find your 6 digit One time Password \\n\\n Do not share the OTP\"\n",
    "\n",
    "    message = f\"Subject: {SUBJECT}\\n\\n{TEXT} \\n\\n {code}\"\n",
    "# message = str(\"Your OTP verification \")+code\n",
    "# sending the mail\n",
    "    s.sendmail(\"mounika95p@gmail.com\", sender_mail_id, message)\n",
    "\n",
    "# terminating the session\n",
    "    s.quit()\n",
    "    print('Mail has sent')\n",
    "    count=0\n",
    "    while count!=3: # User has limit of 3 of validating OTP\n",
    "        user_code=int(input('Enter your OTP for verfication = '))\n",
    "        if int(code) == user_code:\n",
    "            return f'Access Granted'\n",
    "            break\n",
    "        else:\n",
    "            count+=1\n",
    "            if count == 3:\n",
    "                return f'Access Denied crossed limit'\n",
    "                break\n",
    "            print('Invalid OTP,Try again')\n",
    "print(send_mail(mail))\n"
   ]
  }
 ],
 "metadata": {
  "kernelspec": {
   "display_name": "Python 3 (ipykernel)",
   "language": "python",
   "name": "python3"
  },
  "language_info": {
   "codemirror_mode": {
    "name": "ipython",
    "version": 3
   },
   "file_extension": ".py",
   "mimetype": "text/x-python",
   "name": "python",
   "nbconvert_exporter": "python",
   "pygments_lexer": "ipython3",
   "version": "3.11.7"
  }
 },
 "nbformat": 4,
 "nbformat_minor": 5
}
